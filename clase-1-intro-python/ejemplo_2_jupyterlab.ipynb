{
 "cells": [
  {
   "cell_type": "markdown",
   "id": "b4a7d463-d370-4ff3-a56f-81c00bb2fbe6",
   "metadata": {},
   "source": [
    "# Ejemplo 2: Jupyterlab\n",
    "\n",
    "Este es un ejemplo de una notebook Jupyter creada usando Jupyterlab. \n",
    "\n",
    "¿Texto mezclado con código? Sí. Es lo más, ¿no?\n",
    "\n",
    "Con una herramienta así se nos facilita muchísimo probar cosas, documentarlas, e incluso poder mostrar resultados a nuestros stakeholders.\n",
    "Por eso es que que decimos que las notebooks son una herramienta fenomenal para Data Science. Si hacemos un uso inteligente, y nos aseguramos de ser consistentes en nuestra programación y en la forma en la que desarrollamos las cosas, vamos a poder sacarle el mayor partido posible."
   ]
  },
  {
   "cell_type": "markdown",
   "id": "e135eabd-3019-42d8-bf7a-75bf7422699f",
   "metadata": {},
   "source": [
    "## Probemos un hola mundo\n",
    "\n",
    "Acá vamos a hacer lo mismo que planteamos en el script de ejemplo, pero lo veremos en una notebook:"
   ]
  },
  {
   "cell_type": "code",
   "execution_count": 5,
   "id": "ddb34a80-3fa1-4369-8832-26504919c8a3",
   "metadata": {},
   "outputs": [],
   "source": [
    "import numpy as np\n",
    "\n",
    "def saludar(persona):\n",
    "    print(f\"Hola {persona}!\")"
   ]
  },
  {
   "cell_type": "markdown",
   "id": "bc2a3e2a-e4e7-4291-8e51-3cdfc0ed332d",
   "metadata": {},
   "source": [
    "¿No pasó nada? ¡Y claro, amigue! Si lo único que hicimos fue declarar la función. Tenemos que ejecutarla ahora. Lo bueno es que solamente necesitamos hacer esto:"
   ]
  },
  {
   "cell_type": "code",
   "execution_count": 6,
   "id": "24b31d58-1db7-4ba9-8b09-29ba28295d04",
   "metadata": {},
   "outputs": [
    {
     "name": "stdout",
     "output_type": "stream",
     "text": [
      "Hola Nacho!\n"
     ]
    }
   ],
   "source": [
    "saludar(\"Nacho\")"
   ]
  }
 ],
 "metadata": {
  "kernelspec": {
   "display_name": "Python 3 (ipykernel)",
   "language": "python",
   "name": "python3"
  },
  "language_info": {
   "codemirror_mode": {
    "name": "ipython",
    "version": 3
   },
   "file_extension": ".py",
   "mimetype": "text/x-python",
   "name": "python",
   "nbconvert_exporter": "python",
   "pygments_lexer": "ipython3",
   "version": "3.10.9"
  }
 },
 "nbformat": 4,
 "nbformat_minor": 5
}
